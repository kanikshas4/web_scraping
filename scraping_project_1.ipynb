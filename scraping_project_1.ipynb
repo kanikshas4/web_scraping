{
 "cells": [
  {
   "cell_type": "code",
   "execution_count": 7,
   "metadata": {},
   "outputs": [],
   "source": [
    "import requests\n",
    "import bs4\n",
    "from bs4 import BeautifulSoup\n",
    "import pandas as pd\n",
    "import time\n",
    "\n",
    "URL = (\"https://www.timesjobs.com/candidate/job-search.html?searchType=personalizedSearch&from=submit&txtKeywords=python+developer&txtLocation=North+India \")\n",
    "#conducting a request of the stated URL above:\n",
    "page3 = requests.get(URL)\n",
    "#specifying a desired format of “page” using the html parser - this allows python to read the various components of the page, rather than treating it as one long string.\n",
    "soup = BeautifulSoup( page3.text, \"html.parser\")\n",
    "\n"
   ]
  },
  {
   "cell_type": "code",
   "execution_count": 8,
   "metadata": {},
   "outputs": [],
   "source": [
    "jobs=soup.find_all('li',class_='clearfix job-bx wht-shd-bx')"
   ]
  },
  {
   "cell_type": "code",
   "execution_count": 9,
   "metadata": {},
   "outputs": [],
   "source": [
    "for job in jobs:\n",
    "    company=[]\n",
    "    company1= job.find('h3',class_ ='joblist-comp-name')\n",
    "    company.append(company1.text.strip())\n",
    "    "
   ]
  },
  {
   "cell_type": "code",
   "execution_count": 10,
   "metadata": {},
   "outputs": [
    {
     "name": "stdout",
     "output_type": "stream",
     "text": [
      "['Fluper Limited']\n"
     ]
    }
   ],
   "source": [
    "print(company)"
   ]
  },
  {
   "cell_type": "code",
   "execution_count": 11,
   "metadata": {},
   "outputs": [],
   "source": [
    "company=[]\n",
    "for job in jobs:\n",
    "    company1= job.find('h3',class_ ='joblist-comp-name')\n",
    "    company.append(company1.text.strip())\n",
    "    \n",
    "    \n"
   ]
  },
  {
   "cell_type": "code",
   "execution_count": 12,
   "metadata": {},
   "outputs": [
    {
     "name": "stdout",
     "output_type": "stream",
     "text": [
      "['B.S.B International Career Pvt. Ltd.\\r\\n     (More Jobs)', 'B.S.B International Career Pvt. Ltd.\\r\\n     (More Jobs)', 'R DOT VENTURE\\r\\n     (More Jobs)', 'Shaurya Global Solutions\\r\\n     (More Jobs)', 'CANVAS27.com\\r\\n     (More Jobs)', 'CANVAS27.com\\r\\n     (More Jobs)', 'CANVAS27.com Consultant\\r\\n     (More Jobs)', 'CANVAS27.com\\r\\n     (More Jobs)', 'CANVAS27.com\\r\\n     (More Jobs)', 'CANVAS27.com Consultant\\r\\n     (More Jobs)', 'CANVAS27.com Consultant\\r\\n     (More Jobs)', 'CANVAS27.com Consultant\\r\\n     (More Jobs)', 'R DOT VENTURE\\r\\n     (More Jobs)', 'R DOT VENTURE\\r\\n     (More Jobs)', 'CANVAS27.com Consultant\\r\\n     (More Jobs)', 'CANVAS27.com Consultant\\r\\n     (More Jobs)', 'TandA HR Solutions', 'creative thoughts informatics indore', 'bigstep technologies pvt ltd', 'SYSTEMATIX INFOTECH PVT LTD', 'APPLYCUP HIRING SOLUTIONS LLP', 'KIWITECH', 'APPLYCUP HIRING SOLUTIONS LLP', 'zenga tv', 'Fluper Limited']\n"
     ]
    }
   ],
   "source": [
    "print(company)"
   ]
  },
  {
   "cell_type": "code",
   "execution_count": 13,
   "metadata": {},
   "outputs": [],
   "source": [
    "skills=[]\n",
    "for job in jobs:\n",
    "    skills1=job.find('span',class_='srp-skills').text\n",
    "    skills.append(skills1.strip())\n"
   ]
  },
  {
   "cell_type": "code",
   "execution_count": 14,
   "metadata": {},
   "outputs": [
    {
     "data": {
      "text/plain": [
       "['python developer',\n",
       " 'Programmer',\n",
       " 'Python  ,  django  ,  flask  ,  aws  ,  github  ,  ML libraries  ,  Javascript',\n",
       " 'Core Python  ,   Frame Works',\n",
       " 'CSS  ,  Solr  ,  Github  ,  Django  ,  MySQL  ,  Javascript  ,  HTML  ,  MongoDB  ,  Elastic Search  ,  Python',\n",
       " 'rest  ,  python  ,  open source  ,  django  ,  devops  ,  mysql  ,  API  ,  aws  ,  mongodb  ,  postgres  ,  SQL',\n",
       " 'coding  ,  python  ,  erp  ,  software development  ,  postgresql  ,  web application  ,  Backend Developer  ,  product development  ,  threading  ,  python developer  ,  python programmer  ,  javascript',\n",
       " 'CSS  ,  Solr  ,  Github  ,  Django  ,  MySQL  ,  Javascript  ,  HTML  ,  MongoDB  ,  Elastic Search  ,  Python',\n",
       " 'rest  ,  python  ,  open source  ,  django  ,  devops  ,  mysql  ,  API  ,  aws  ,  mongodb  ,  postgres  ,  SQL',\n",
       " 'coding  ,  python  ,  erp  ,  software development  ,  postgresql  ,  web application  ,  Backend Developer  ,  product development  ,  threading  ,  python developer  ,  python programmer  ,  javascript',\n",
       " 'Python Developer  ,  Pandas  ,  numpy  ,  python programmer',\n",
       " 'Python Developer  ,  Pandas  ,  numpy  ,  python programmer',\n",
       " 'git  ,  Svn  ,  mysql  ,  html5  ,  css  ,  django  ,  flask  ,  postgresql',\n",
       " 'HTML5  ,  CSS  ,  MYSQL  ,  PostgreSQL  ,  Angular  ,  Vue.js  ,  React  ,  Git  ,  SVN  ,  Odoo  ,  Django  ,  Flask  ,  core python',\n",
       " 'python  ,  nlp  ,  natural language processing  ,  MongoDB  ,  api  ,  machine learning  ,  nosql',\n",
       " 'python  ,  nlp  ,  natural language processing  ,  MongoDB  ,  api  ,  machine learning  ,  nosql',\n",
       " 'Django framework  ,  Python Developer  ,  core python',\n",
       " 'python  ,  django  ,  rest api  ,  html5  ,  javascript',\n",
       " 'rest api  ,  docker  ,  postgresql  ,  web development  ,  api  ,  mongodb  ,  python  ,  mobile  ,  django',\n",
       " 'python  ,  security  ,  django  ,  html5  ,  javascript',\n",
       " 'python  ,  css  ,  html5  ,  javascript  ,  database  ,  django  ,  protocol testing  ,  postgresql  ,  system development  ,  html  ,  mysql  ,  api  ,  mongodb',\n",
       " 'algorithms  ,  python  ,  css  ,  javascript  ,  jquery  ,  web programming  ,  oop  ,  django  ,  zope  ,  linux  ,  web development  ,  html  ,  data structures',\n",
       " 'python  ,  django  ,  html5  ,  javascript',\n",
       " 'python  ,  django  ,  html5  ,  javascript',\n",
       " 'c#  ,  python  ,  virtual reality  ,  mobile  ,  augmented reality  ,  opencv']"
      ]
     },
     "execution_count": 14,
     "metadata": {},
     "output_type": "execute_result"
    }
   ],
   "source": [
    "skills"
   ]
  },
  {
   "cell_type": "code",
   "execution_count": 15,
   "metadata": {},
   "outputs": [],
   "source": [
    "link=[]\n",
    "for job in jobs:\n",
    "    link1=job.header.h2.a['href']\n",
    "    link.append(link1)\n"
   ]
  },
  {
   "cell_type": "code",
   "execution_count": 16,
   "metadata": {},
   "outputs": [
    {
     "data": {
      "text/plain": [
       "['https://www.timesjobs.com/job-detail/python-developer-bsbstaffing-bengaluru-bangalore-delhi-ncr-hyderabad-secunderabad-mumbai-noida-greater-noida-1-to-6-yrs-jobid-pHsFviP8ldJzpSvf__PLUS__uAgZw==&source=srp',\n",
       " 'https://www.timesjobs.com/job-detail/python-developer-b-s-b-international-career-pvt-ltd-gurgaon-hyderabad-secunderabad-mumbai-noida-greater-noida-pune-1-to-6-yrs-jobid-m8__SLASH__nFkS__SLASH__VWtzpSvf__PLUS__uAgZw==&source=srp',\n",
       " 'https://www.timesjobs.com/job-detail/python-developer-r-dot-venture-indore-1-to-3-yrs-jobid-DGWO__PLUS__LE5cVxzpSvf__PLUS__uAgZw==&source=srp',\n",
       " 'https://www.timesjobs.com/job-detail/python-developer-shaurya-global-solutions-bengaluru-bangalore-chennai-delhi-hyderabad-secunderabad-mumbai-0-to-3-yrs-jobid-MxitXwv0jr1zpSvf__PLUS__uAgZw==&source=srp',\n",
       " 'https://www.timesjobs.com/job-detail/python-developer-canvas27-com-ahmedabad-bengaluru-bangalore-chennai-delhi-ncr-gurgaon-1-to-6-yrs-jobid-SprIasbOP6hzpSvf__PLUS__uAgZw==&source=srp',\n",
       " 'https://www.timesjobs.com/job-detail/python-developer-canvas27-com-hyderabad-secunderabad-kolkata-mumbai-noida-greater-noida-pune-1-to-6-yrs-jobid-BLk__SLASH__UC4ZfexzpSvf__PLUS__uAgZw==&source=srp',\n",
       " 'https://www.timesjobs.com/job-detail/python-developer-canvas27-com-consultant-hyderabad-secunderabad-kolkata-mumbai-noida-greater-noida-pune-1-to-6-yrs-jobid-ijLeZkVP4WBzpSvf__PLUS__uAgZw==&source=srp',\n",
       " 'https://www.timesjobs.com/job-detail/python-developer-canvas27-com-hyderabad-secunderabad-kolkata-mumbai-noida-greater-noida-pune-1-to-6-yrs-jobid-nHuj__PLUS__T5QsGtzpSvf__PLUS__uAgZw==&source=srp',\n",
       " 'https://www.timesjobs.com/job-detail/python-developer-canvas27-com-ahmedabad-bengaluru-bangalore-chennai-delhi-ncr-gurgaon-1-to-6-yrs-jobid-E9hOCRx6a81zpSvf__PLUS__uAgZw==&source=srp',\n",
       " 'https://www.timesjobs.com/job-detail/python-developer-canvas27-com-consultant-ahmedabad-bengaluru-bangalore-chennai-delhi-ncr-gurgaon-1-to-6-yrs-jobid-LdKVbJWgFt1zpSvf__PLUS__uAgZw==&source=srp',\n",
       " 'https://www.timesjobs.com/job-detail/python-developer-canvas27-com-consultant-ahmedabad-bengaluru-bangalore-chennai-delhi-ncr-gurgaon-1-to-6-yrs-jobid-WStGUGtlyK9zpSvf__PLUS__uAgZw==&source=srp',\n",
       " 'https://www.timesjobs.com/job-detail/python-developer-canvas27-com-consultant-hyderabad-secunderabad-kolkata-mumbai-noida-greater-noida-pune-1-to-6-yrs-jobid-Rnhzaf0mwThzpSvf__PLUS__uAgZw==&source=srp',\n",
       " 'https://www.timesjobs.com/job-detail/senior-python-developer-r-dot-venture-other-city-s-in-madhya-pradesh-4-to-6-yrs-jobid-KPSmdZVDUi1zpSvf__PLUS__uAgZw==&source=srp',\n",
       " 'https://www.timesjobs.com/job-detail/senior-python-developer-r-dot-venture-indore-4-to-6-yrs-jobid-u6X4pl6tC5NzpSvf__PLUS__uAgZw==&source=srp',\n",
       " 'https://www.timesjobs.com/job-detail/python-developer-machine-learning-canvas27-com-consultant-ahmedabad-bengaluru-bangalore-chennai-delhi-ncr-gurgaon-1-to-6-yrs-jobid-iKFW43h__SLASH__vVlzpSvf__PLUS__uAgZw==&source=srp',\n",
       " 'https://www.timesjobs.com/job-detail/python-developer-machine-learning-canvas27-com-consultant-hyderabad-secunderabad-kolkata-mumbai-noida-greater-noida-pune-1-to-6-yrs-jobid-ZLZiz__PLUS__U24oBzpSvf__PLUS__uAgZw==&source=srp',\n",
       " 'https://www.timesjobs.com/job-detail/python-developer-tanda-hr-solutions-mohali-3-to-5-yrs-jobid-GTT0grHZP1tzpSvf__PLUS__uAgZw==&source=srp',\n",
       " 'https://www.timesjobs.com/job-detail/python-developer-creative-thoughts-informatics-indore-indore-1-to-4-yrs-jobid-xtV5Tl3aEcVzpSvf__PLUS__uAgZw==&source=srp',\n",
       " 'https://www.timesjobs.com/job-detail/python-developer-bigstep-technologies-pvt-ltd-gurgaon-3-to-7-yrs-jobid-IQWyCFbw9URzpSvf__PLUS__uAgZw==&source=srp',\n",
       " 'https://www.timesjobs.com/job-detail/python-developer-systematix-infotech-pvt-ltd-bhopal-1-to-3-yrs-jobid-Dl__SLASH__nEjdCiSVzpSvf__PLUS__uAgZw==&source=srp',\n",
       " 'https://www.timesjobs.com/job-detail/python-developer-applycup-hiring-solutions-llp-indore-1-to-3-yrs-jobid-jwhr1C80__PLUS__otzpSvf__PLUS__uAgZw==&source=srp',\n",
       " 'https://www.timesjobs.com/job-detail/python-developer-kiwitech-noida-greater-noida-3-to-6-yrs-jobid-jdbnQbeZ83FzpSvf__PLUS__uAgZw==&source=srp',\n",
       " 'https://www.timesjobs.com/job-detail/python-developer-applycup-hiring-solutions-llp-gurgaon-delhi-delhi-ncr-2-to-15-yrs-jobid-FHYQtX1BOyxzpSvf__PLUS__uAgZw==&source=srp',\n",
       " 'https://www.timesjobs.com/job-detail/python-developer-zenga-tv-gurgaon-2-to-5-yrs-jobid-__PLUS__GAu6f5FqwdzpSvf__PLUS__uAgZw==&source=srp',\n",
       " 'https://www.timesjobs.com/job-detail/python-developer-fluper-limited-noida-greater-noida-2-to-7-yrs-jobid-ETCeznAalQBzpSvf__PLUS__uAgZw==&source=srp']"
      ]
     },
     "execution_count": 16,
     "metadata": {},
     "output_type": "execute_result"
    }
   ],
   "source": [
    "link"
   ]
  },
  {
   "cell_type": "code",
   "execution_count": 17,
   "metadata": {},
   "outputs": [],
   "source": [
    "published_date=[]\n",
    "for job in jobs:\n",
    "    published_date1=job.find('span',class_='sim-posted').text\n",
    "    published_date.append(published_date1.strip())\n"
   ]
  },
  {
   "cell_type": "code",
   "execution_count": 18,
   "metadata": {},
   "outputs": [
    {
     "data": {
      "text/plain": [
       "['Posted today',\n",
       " 'Posted today',\n",
       " 'Posted a month ago',\n",
       " 'Work from Home \\r\\n\\t\\t    \\t\\nPosted few days ago',\n",
       " 'Posted a month ago',\n",
       " 'Posted a month ago',\n",
       " 'Posted a month ago',\n",
       " 'Posted a month ago',\n",
       " 'Posted a month ago',\n",
       " 'Posted a month ago',\n",
       " 'Posted a month ago',\n",
       " 'Posted a month ago',\n",
       " 'Posted few days ago',\n",
       " 'Posted a month ago',\n",
       " 'Posted a month ago',\n",
       " 'Posted a month ago',\n",
       " 'Posted 4 days ago',\n",
       " 'Posted 3 days ago',\n",
       " 'Posted 3 days ago',\n",
       " 'Posted 3 days ago',\n",
       " 'Posted 4 days ago',\n",
       " 'Posted 4 days ago',\n",
       " 'Posted 4 days ago',\n",
       " 'Posted 5 days ago',\n",
       " 'Posted 5 days ago']"
      ]
     },
     "execution_count": 18,
     "metadata": {},
     "output_type": "execute_result"
    }
   ],
   "source": [
    "published_date"
   ]
  },
  {
   "cell_type": "code",
   "execution_count": 19,
   "metadata": {},
   "outputs": [],
   "source": [
    "jobs_dict = {\n",
    "        'company' : company,\n",
    "        'required_skills': skills,\n",
    "        'link_to_the_job': link\n",
    "        \n",
    "        }"
   ]
  },
  {
   "cell_type": "code",
   "execution_count": 20,
   "metadata": {},
   "outputs": [],
   "source": [
    "jobs_df = pd.DataFrame(jobs_dict)\n",
    "  "
   ]
  },
  {
   "cell_type": "code",
   "execution_count": 21,
   "metadata": {},
   "outputs": [
    {
     "name": "stdout",
     "output_type": "stream",
     "text": [
      "                                              company  \\\n",
      "0   B.S.B International Career Pvt. Ltd.\\r\\n     (...   \n",
      "1   B.S.B International Career Pvt. Ltd.\\r\\n     (...   \n",
      "2                   R DOT VENTURE\\r\\n     (More Jobs)   \n",
      "3        Shaurya Global Solutions\\r\\n     (More Jobs)   \n",
      "4                    CANVAS27.com\\r\\n     (More Jobs)   \n",
      "5                    CANVAS27.com\\r\\n     (More Jobs)   \n",
      "6         CANVAS27.com Consultant\\r\\n     (More Jobs)   \n",
      "7                    CANVAS27.com\\r\\n     (More Jobs)   \n",
      "8                    CANVAS27.com\\r\\n     (More Jobs)   \n",
      "9         CANVAS27.com Consultant\\r\\n     (More Jobs)   \n",
      "10        CANVAS27.com Consultant\\r\\n     (More Jobs)   \n",
      "11        CANVAS27.com Consultant\\r\\n     (More Jobs)   \n",
      "12                  R DOT VENTURE\\r\\n     (More Jobs)   \n",
      "13                  R DOT VENTURE\\r\\n     (More Jobs)   \n",
      "14        CANVAS27.com Consultant\\r\\n     (More Jobs)   \n",
      "15        CANVAS27.com Consultant\\r\\n     (More Jobs)   \n",
      "16                                 TandA HR Solutions   \n",
      "17               creative thoughts informatics indore   \n",
      "18                       bigstep technologies pvt ltd   \n",
      "19                        SYSTEMATIX INFOTECH PVT LTD   \n",
      "20                      APPLYCUP HIRING SOLUTIONS LLP   \n",
      "21                                           KIWITECH   \n",
      "22                      APPLYCUP HIRING SOLUTIONS LLP   \n",
      "23                                           zenga tv   \n",
      "24                                     Fluper Limited   \n",
      "\n",
      "                                      required_skills  \\\n",
      "0                                    python developer   \n",
      "1                                          Programmer   \n",
      "2   Python  ,  django  ,  flask  ,  aws  ,  github...   \n",
      "3                        Core Python  ,   Frame Works   \n",
      "4   CSS  ,  Solr  ,  Github  ,  Django  ,  MySQL  ...   \n",
      "5   rest  ,  python  ,  open source  ,  django  , ...   \n",
      "6   coding  ,  python  ,  erp  ,  software develop...   \n",
      "7   CSS  ,  Solr  ,  Github  ,  Django  ,  MySQL  ...   \n",
      "8   rest  ,  python  ,  open source  ,  django  , ...   \n",
      "9   coding  ,  python  ,  erp  ,  software develop...   \n",
      "10  Python Developer  ,  Pandas  ,  numpy  ,  pyth...   \n",
      "11  Python Developer  ,  Pandas  ,  numpy  ,  pyth...   \n",
      "12  git  ,  Svn  ,  mysql  ,  html5  ,  css  ,  dj...   \n",
      "13  HTML5  ,  CSS  ,  MYSQL  ,  PostgreSQL  ,  Ang...   \n",
      "14  python  ,  nlp  ,  natural language processing...   \n",
      "15  python  ,  nlp  ,  natural language processing...   \n",
      "16  Django framework  ,  Python Developer  ,  core...   \n",
      "17  python  ,  django  ,  rest api  ,  html5  ,  j...   \n",
      "18  rest api  ,  docker  ,  postgresql  ,  web dev...   \n",
      "19  python  ,  security  ,  django  ,  html5  ,  j...   \n",
      "20  python  ,  css  ,  html5  ,  javascript  ,  da...   \n",
      "21  algorithms  ,  python  ,  css  ,  javascript  ...   \n",
      "22         python  ,  django  ,  html5  ,  javascript   \n",
      "23         python  ,  django  ,  html5  ,  javascript   \n",
      "24  c#  ,  python  ,  virtual reality  ,  mobile  ...   \n",
      "\n",
      "                                      link_to_the_job  \n",
      "0   https://www.timesjobs.com/job-detail/python-de...  \n",
      "1   https://www.timesjobs.com/job-detail/python-de...  \n",
      "2   https://www.timesjobs.com/job-detail/python-de...  \n",
      "3   https://www.timesjobs.com/job-detail/python-de...  \n",
      "4   https://www.timesjobs.com/job-detail/python-de...  \n",
      "5   https://www.timesjobs.com/job-detail/python-de...  \n",
      "6   https://www.timesjobs.com/job-detail/python-de...  \n",
      "7   https://www.timesjobs.com/job-detail/python-de...  \n",
      "8   https://www.timesjobs.com/job-detail/python-de...  \n",
      "9   https://www.timesjobs.com/job-detail/python-de...  \n",
      "10  https://www.timesjobs.com/job-detail/python-de...  \n",
      "11  https://www.timesjobs.com/job-detail/python-de...  \n",
      "12  https://www.timesjobs.com/job-detail/senior-py...  \n",
      "13  https://www.timesjobs.com/job-detail/senior-py...  \n",
      "14  https://www.timesjobs.com/job-detail/python-de...  \n",
      "15  https://www.timesjobs.com/job-detail/python-de...  \n",
      "16  https://www.timesjobs.com/job-detail/python-de...  \n",
      "17  https://www.timesjobs.com/job-detail/python-de...  \n",
      "18  https://www.timesjobs.com/job-detail/python-de...  \n",
      "19  https://www.timesjobs.com/job-detail/python-de...  \n",
      "20  https://www.timesjobs.com/job-detail/python-de...  \n",
      "21  https://www.timesjobs.com/job-detail/python-de...  \n",
      "22  https://www.timesjobs.com/job-detail/python-de...  \n",
      "23  https://www.timesjobs.com/job-detail/python-de...  \n",
      "24  https://www.timesjobs.com/job-detail/python-de...  \n"
     ]
    }
   ],
   "source": [
    "print(jobs_df)"
   ]
  },
  {
   "cell_type": "code",
   "execution_count": 22,
   "metadata": {},
   "outputs": [],
   "source": [
    "data_tuples = list(zip(company,skills,link))"
   ]
  },
  {
   "cell_type": "code",
   "execution_count": 23,
   "metadata": {},
   "outputs": [
    {
     "data": {
      "text/plain": [
       "[('B.S.B International Career Pvt. Ltd.\\r\\n     (More Jobs)',\n",
       "  'python developer',\n",
       "  'https://www.timesjobs.com/job-detail/python-developer-bsbstaffing-bengaluru-bangalore-delhi-ncr-hyderabad-secunderabad-mumbai-noida-greater-noida-1-to-6-yrs-jobid-pHsFviP8ldJzpSvf__PLUS__uAgZw==&source=srp'),\n",
       " ('B.S.B International Career Pvt. Ltd.\\r\\n     (More Jobs)',\n",
       "  'Programmer',\n",
       "  'https://www.timesjobs.com/job-detail/python-developer-b-s-b-international-career-pvt-ltd-gurgaon-hyderabad-secunderabad-mumbai-noida-greater-noida-pune-1-to-6-yrs-jobid-m8__SLASH__nFkS__SLASH__VWtzpSvf__PLUS__uAgZw==&source=srp'),\n",
       " ('R DOT VENTURE\\r\\n     (More Jobs)',\n",
       "  'Python  ,  django  ,  flask  ,  aws  ,  github  ,  ML libraries  ,  Javascript',\n",
       "  'https://www.timesjobs.com/job-detail/python-developer-r-dot-venture-indore-1-to-3-yrs-jobid-DGWO__PLUS__LE5cVxzpSvf__PLUS__uAgZw==&source=srp'),\n",
       " ('Shaurya Global Solutions\\r\\n     (More Jobs)',\n",
       "  'Core Python  ,   Frame Works',\n",
       "  'https://www.timesjobs.com/job-detail/python-developer-shaurya-global-solutions-bengaluru-bangalore-chennai-delhi-hyderabad-secunderabad-mumbai-0-to-3-yrs-jobid-MxitXwv0jr1zpSvf__PLUS__uAgZw==&source=srp'),\n",
       " ('CANVAS27.com\\r\\n     (More Jobs)',\n",
       "  'CSS  ,  Solr  ,  Github  ,  Django  ,  MySQL  ,  Javascript  ,  HTML  ,  MongoDB  ,  Elastic Search  ,  Python',\n",
       "  'https://www.timesjobs.com/job-detail/python-developer-canvas27-com-ahmedabad-bengaluru-bangalore-chennai-delhi-ncr-gurgaon-1-to-6-yrs-jobid-SprIasbOP6hzpSvf__PLUS__uAgZw==&source=srp'),\n",
       " ('CANVAS27.com\\r\\n     (More Jobs)',\n",
       "  'rest  ,  python  ,  open source  ,  django  ,  devops  ,  mysql  ,  API  ,  aws  ,  mongodb  ,  postgres  ,  SQL',\n",
       "  'https://www.timesjobs.com/job-detail/python-developer-canvas27-com-hyderabad-secunderabad-kolkata-mumbai-noida-greater-noida-pune-1-to-6-yrs-jobid-BLk__SLASH__UC4ZfexzpSvf__PLUS__uAgZw==&source=srp'),\n",
       " ('CANVAS27.com Consultant\\r\\n     (More Jobs)',\n",
       "  'coding  ,  python  ,  erp  ,  software development  ,  postgresql  ,  web application  ,  Backend Developer  ,  product development  ,  threading  ,  python developer  ,  python programmer  ,  javascript',\n",
       "  'https://www.timesjobs.com/job-detail/python-developer-canvas27-com-consultant-hyderabad-secunderabad-kolkata-mumbai-noida-greater-noida-pune-1-to-6-yrs-jobid-ijLeZkVP4WBzpSvf__PLUS__uAgZw==&source=srp'),\n",
       " ('CANVAS27.com\\r\\n     (More Jobs)',\n",
       "  'CSS  ,  Solr  ,  Github  ,  Django  ,  MySQL  ,  Javascript  ,  HTML  ,  MongoDB  ,  Elastic Search  ,  Python',\n",
       "  'https://www.timesjobs.com/job-detail/python-developer-canvas27-com-hyderabad-secunderabad-kolkata-mumbai-noida-greater-noida-pune-1-to-6-yrs-jobid-nHuj__PLUS__T5QsGtzpSvf__PLUS__uAgZw==&source=srp'),\n",
       " ('CANVAS27.com\\r\\n     (More Jobs)',\n",
       "  'rest  ,  python  ,  open source  ,  django  ,  devops  ,  mysql  ,  API  ,  aws  ,  mongodb  ,  postgres  ,  SQL',\n",
       "  'https://www.timesjobs.com/job-detail/python-developer-canvas27-com-ahmedabad-bengaluru-bangalore-chennai-delhi-ncr-gurgaon-1-to-6-yrs-jobid-E9hOCRx6a81zpSvf__PLUS__uAgZw==&source=srp'),\n",
       " ('CANVAS27.com Consultant\\r\\n     (More Jobs)',\n",
       "  'coding  ,  python  ,  erp  ,  software development  ,  postgresql  ,  web application  ,  Backend Developer  ,  product development  ,  threading  ,  python developer  ,  python programmer  ,  javascript',\n",
       "  'https://www.timesjobs.com/job-detail/python-developer-canvas27-com-consultant-ahmedabad-bengaluru-bangalore-chennai-delhi-ncr-gurgaon-1-to-6-yrs-jobid-LdKVbJWgFt1zpSvf__PLUS__uAgZw==&source=srp'),\n",
       " ('CANVAS27.com Consultant\\r\\n     (More Jobs)',\n",
       "  'Python Developer  ,  Pandas  ,  numpy  ,  python programmer',\n",
       "  'https://www.timesjobs.com/job-detail/python-developer-canvas27-com-consultant-ahmedabad-bengaluru-bangalore-chennai-delhi-ncr-gurgaon-1-to-6-yrs-jobid-WStGUGtlyK9zpSvf__PLUS__uAgZw==&source=srp'),\n",
       " ('CANVAS27.com Consultant\\r\\n     (More Jobs)',\n",
       "  'Python Developer  ,  Pandas  ,  numpy  ,  python programmer',\n",
       "  'https://www.timesjobs.com/job-detail/python-developer-canvas27-com-consultant-hyderabad-secunderabad-kolkata-mumbai-noida-greater-noida-pune-1-to-6-yrs-jobid-Rnhzaf0mwThzpSvf__PLUS__uAgZw==&source=srp'),\n",
       " ('R DOT VENTURE\\r\\n     (More Jobs)',\n",
       "  'git  ,  Svn  ,  mysql  ,  html5  ,  css  ,  django  ,  flask  ,  postgresql',\n",
       "  'https://www.timesjobs.com/job-detail/senior-python-developer-r-dot-venture-other-city-s-in-madhya-pradesh-4-to-6-yrs-jobid-KPSmdZVDUi1zpSvf__PLUS__uAgZw==&source=srp'),\n",
       " ('R DOT VENTURE\\r\\n     (More Jobs)',\n",
       "  'HTML5  ,  CSS  ,  MYSQL  ,  PostgreSQL  ,  Angular  ,  Vue.js  ,  React  ,  Git  ,  SVN  ,  Odoo  ,  Django  ,  Flask  ,  core python',\n",
       "  'https://www.timesjobs.com/job-detail/senior-python-developer-r-dot-venture-indore-4-to-6-yrs-jobid-u6X4pl6tC5NzpSvf__PLUS__uAgZw==&source=srp'),\n",
       " ('CANVAS27.com Consultant\\r\\n     (More Jobs)',\n",
       "  'python  ,  nlp  ,  natural language processing  ,  MongoDB  ,  api  ,  machine learning  ,  nosql',\n",
       "  'https://www.timesjobs.com/job-detail/python-developer-machine-learning-canvas27-com-consultant-ahmedabad-bengaluru-bangalore-chennai-delhi-ncr-gurgaon-1-to-6-yrs-jobid-iKFW43h__SLASH__vVlzpSvf__PLUS__uAgZw==&source=srp'),\n",
       " ('CANVAS27.com Consultant\\r\\n     (More Jobs)',\n",
       "  'python  ,  nlp  ,  natural language processing  ,  MongoDB  ,  api  ,  machine learning  ,  nosql',\n",
       "  'https://www.timesjobs.com/job-detail/python-developer-machine-learning-canvas27-com-consultant-hyderabad-secunderabad-kolkata-mumbai-noida-greater-noida-pune-1-to-6-yrs-jobid-ZLZiz__PLUS__U24oBzpSvf__PLUS__uAgZw==&source=srp'),\n",
       " ('TandA HR Solutions',\n",
       "  'Django framework  ,  Python Developer  ,  core python',\n",
       "  'https://www.timesjobs.com/job-detail/python-developer-tanda-hr-solutions-mohali-3-to-5-yrs-jobid-GTT0grHZP1tzpSvf__PLUS__uAgZw==&source=srp'),\n",
       " ('creative thoughts informatics indore',\n",
       "  'python  ,  django  ,  rest api  ,  html5  ,  javascript',\n",
       "  'https://www.timesjobs.com/job-detail/python-developer-creative-thoughts-informatics-indore-indore-1-to-4-yrs-jobid-xtV5Tl3aEcVzpSvf__PLUS__uAgZw==&source=srp'),\n",
       " ('bigstep technologies pvt ltd',\n",
       "  'rest api  ,  docker  ,  postgresql  ,  web development  ,  api  ,  mongodb  ,  python  ,  mobile  ,  django',\n",
       "  'https://www.timesjobs.com/job-detail/python-developer-bigstep-technologies-pvt-ltd-gurgaon-3-to-7-yrs-jobid-IQWyCFbw9URzpSvf__PLUS__uAgZw==&source=srp'),\n",
       " ('SYSTEMATIX INFOTECH PVT LTD',\n",
       "  'python  ,  security  ,  django  ,  html5  ,  javascript',\n",
       "  'https://www.timesjobs.com/job-detail/python-developer-systematix-infotech-pvt-ltd-bhopal-1-to-3-yrs-jobid-Dl__SLASH__nEjdCiSVzpSvf__PLUS__uAgZw==&source=srp'),\n",
       " ('APPLYCUP HIRING SOLUTIONS LLP',\n",
       "  'python  ,  css  ,  html5  ,  javascript  ,  database  ,  django  ,  protocol testing  ,  postgresql  ,  system development  ,  html  ,  mysql  ,  api  ,  mongodb',\n",
       "  'https://www.timesjobs.com/job-detail/python-developer-applycup-hiring-solutions-llp-indore-1-to-3-yrs-jobid-jwhr1C80__PLUS__otzpSvf__PLUS__uAgZw==&source=srp'),\n",
       " ('KIWITECH',\n",
       "  'algorithms  ,  python  ,  css  ,  javascript  ,  jquery  ,  web programming  ,  oop  ,  django  ,  zope  ,  linux  ,  web development  ,  html  ,  data structures',\n",
       "  'https://www.timesjobs.com/job-detail/python-developer-kiwitech-noida-greater-noida-3-to-6-yrs-jobid-jdbnQbeZ83FzpSvf__PLUS__uAgZw==&source=srp'),\n",
       " ('APPLYCUP HIRING SOLUTIONS LLP',\n",
       "  'python  ,  django  ,  html5  ,  javascript',\n",
       "  'https://www.timesjobs.com/job-detail/python-developer-applycup-hiring-solutions-llp-gurgaon-delhi-delhi-ncr-2-to-15-yrs-jobid-FHYQtX1BOyxzpSvf__PLUS__uAgZw==&source=srp'),\n",
       " ('zenga tv',\n",
       "  'python  ,  django  ,  html5  ,  javascript',\n",
       "  'https://www.timesjobs.com/job-detail/python-developer-zenga-tv-gurgaon-2-to-5-yrs-jobid-__PLUS__GAu6f5FqwdzpSvf__PLUS__uAgZw==&source=srp'),\n",
       " ('Fluper Limited',\n",
       "  'c#  ,  python  ,  virtual reality  ,  mobile  ,  augmented reality  ,  opencv',\n",
       "  'https://www.timesjobs.com/job-detail/python-developer-fluper-limited-noida-greater-noida-2-to-7-yrs-jobid-ETCeznAalQBzpSvf__PLUS__uAgZw==&source=srp')]"
      ]
     },
     "execution_count": 23,
     "metadata": {},
     "output_type": "execute_result"
    }
   ],
   "source": [
    "data_tuples"
   ]
  },
  {
   "cell_type": "code",
   "execution_count": 24,
   "metadata": {},
   "outputs": [],
   "source": [
    " df=pd.DataFrame(data_tuples, columns=['company','skills','link'])"
   ]
  },
  {
   "cell_type": "code",
   "execution_count": 25,
   "metadata": {},
   "outputs": [],
   "source": [
    "df.to_csv(r' Name.csv')"
   ]
  },
  {
   "cell_type": "code",
   "execution_count": 26,
   "metadata": {},
   "outputs": [
    {
     "data": {
      "text/html": [
       "<div>\n",
       "<style scoped>\n",
       "    .dataframe tbody tr th:only-of-type {\n",
       "        vertical-align: middle;\n",
       "    }\n",
       "\n",
       "    .dataframe tbody tr th {\n",
       "        vertical-align: top;\n",
       "    }\n",
       "\n",
       "    .dataframe thead th {\n",
       "        text-align: right;\n",
       "    }\n",
       "</style>\n",
       "<table border=\"1\" class=\"dataframe\">\n",
       "  <thead>\n",
       "    <tr style=\"text-align: right;\">\n",
       "      <th></th>\n",
       "      <th>company</th>\n",
       "      <th>skills</th>\n",
       "      <th>link</th>\n",
       "    </tr>\n",
       "  </thead>\n",
       "  <tbody>\n",
       "    <tr>\n",
       "      <th>0</th>\n",
       "      <td>B.S.B International Career Pvt. Ltd.\\r\\n     (...</td>\n",
       "      <td>python developer</td>\n",
       "      <td>https://www.timesjobs.com/job-detail/python-de...</td>\n",
       "    </tr>\n",
       "    <tr>\n",
       "      <th>1</th>\n",
       "      <td>B.S.B International Career Pvt. Ltd.\\r\\n     (...</td>\n",
       "      <td>Programmer</td>\n",
       "      <td>https://www.timesjobs.com/job-detail/python-de...</td>\n",
       "    </tr>\n",
       "    <tr>\n",
       "      <th>2</th>\n",
       "      <td>R DOT VENTURE\\r\\n     (More Jobs)</td>\n",
       "      <td>Python  ,  django  ,  flask  ,  aws  ,  github...</td>\n",
       "      <td>https://www.timesjobs.com/job-detail/python-de...</td>\n",
       "    </tr>\n",
       "    <tr>\n",
       "      <th>3</th>\n",
       "      <td>Shaurya Global Solutions\\r\\n     (More Jobs)</td>\n",
       "      <td>Core Python  ,   Frame Works</td>\n",
       "      <td>https://www.timesjobs.com/job-detail/python-de...</td>\n",
       "    </tr>\n",
       "    <tr>\n",
       "      <th>4</th>\n",
       "      <td>CANVAS27.com\\r\\n     (More Jobs)</td>\n",
       "      <td>CSS  ,  Solr  ,  Github  ,  Django  ,  MySQL  ...</td>\n",
       "      <td>https://www.timesjobs.com/job-detail/python-de...</td>\n",
       "    </tr>\n",
       "    <tr>\n",
       "      <th>5</th>\n",
       "      <td>CANVAS27.com\\r\\n     (More Jobs)</td>\n",
       "      <td>rest  ,  python  ,  open source  ,  django  , ...</td>\n",
       "      <td>https://www.timesjobs.com/job-detail/python-de...</td>\n",
       "    </tr>\n",
       "    <tr>\n",
       "      <th>6</th>\n",
       "      <td>CANVAS27.com Consultant\\r\\n     (More Jobs)</td>\n",
       "      <td>coding  ,  python  ,  erp  ,  software develop...</td>\n",
       "      <td>https://www.timesjobs.com/job-detail/python-de...</td>\n",
       "    </tr>\n",
       "    <tr>\n",
       "      <th>7</th>\n",
       "      <td>CANVAS27.com\\r\\n     (More Jobs)</td>\n",
       "      <td>CSS  ,  Solr  ,  Github  ,  Django  ,  MySQL  ...</td>\n",
       "      <td>https://www.timesjobs.com/job-detail/python-de...</td>\n",
       "    </tr>\n",
       "    <tr>\n",
       "      <th>8</th>\n",
       "      <td>CANVAS27.com\\r\\n     (More Jobs)</td>\n",
       "      <td>rest  ,  python  ,  open source  ,  django  , ...</td>\n",
       "      <td>https://www.timesjobs.com/job-detail/python-de...</td>\n",
       "    </tr>\n",
       "    <tr>\n",
       "      <th>9</th>\n",
       "      <td>CANVAS27.com Consultant\\r\\n     (More Jobs)</td>\n",
       "      <td>coding  ,  python  ,  erp  ,  software develop...</td>\n",
       "      <td>https://www.timesjobs.com/job-detail/python-de...</td>\n",
       "    </tr>\n",
       "    <tr>\n",
       "      <th>10</th>\n",
       "      <td>CANVAS27.com Consultant\\r\\n     (More Jobs)</td>\n",
       "      <td>Python Developer  ,  Pandas  ,  numpy  ,  pyth...</td>\n",
       "      <td>https://www.timesjobs.com/job-detail/python-de...</td>\n",
       "    </tr>\n",
       "    <tr>\n",
       "      <th>11</th>\n",
       "      <td>CANVAS27.com Consultant\\r\\n     (More Jobs)</td>\n",
       "      <td>Python Developer  ,  Pandas  ,  numpy  ,  pyth...</td>\n",
       "      <td>https://www.timesjobs.com/job-detail/python-de...</td>\n",
       "    </tr>\n",
       "    <tr>\n",
       "      <th>12</th>\n",
       "      <td>R DOT VENTURE\\r\\n     (More Jobs)</td>\n",
       "      <td>git  ,  Svn  ,  mysql  ,  html5  ,  css  ,  dj...</td>\n",
       "      <td>https://www.timesjobs.com/job-detail/senior-py...</td>\n",
       "    </tr>\n",
       "    <tr>\n",
       "      <th>13</th>\n",
       "      <td>R DOT VENTURE\\r\\n     (More Jobs)</td>\n",
       "      <td>HTML5  ,  CSS  ,  MYSQL  ,  PostgreSQL  ,  Ang...</td>\n",
       "      <td>https://www.timesjobs.com/job-detail/senior-py...</td>\n",
       "    </tr>\n",
       "    <tr>\n",
       "      <th>14</th>\n",
       "      <td>CANVAS27.com Consultant\\r\\n     (More Jobs)</td>\n",
       "      <td>python  ,  nlp  ,  natural language processing...</td>\n",
       "      <td>https://www.timesjobs.com/job-detail/python-de...</td>\n",
       "    </tr>\n",
       "    <tr>\n",
       "      <th>15</th>\n",
       "      <td>CANVAS27.com Consultant\\r\\n     (More Jobs)</td>\n",
       "      <td>python  ,  nlp  ,  natural language processing...</td>\n",
       "      <td>https://www.timesjobs.com/job-detail/python-de...</td>\n",
       "    </tr>\n",
       "    <tr>\n",
       "      <th>16</th>\n",
       "      <td>TandA HR Solutions</td>\n",
       "      <td>Django framework  ,  Python Developer  ,  core...</td>\n",
       "      <td>https://www.timesjobs.com/job-detail/python-de...</td>\n",
       "    </tr>\n",
       "    <tr>\n",
       "      <th>17</th>\n",
       "      <td>creative thoughts informatics indore</td>\n",
       "      <td>python  ,  django  ,  rest api  ,  html5  ,  j...</td>\n",
       "      <td>https://www.timesjobs.com/job-detail/python-de...</td>\n",
       "    </tr>\n",
       "    <tr>\n",
       "      <th>18</th>\n",
       "      <td>bigstep technologies pvt ltd</td>\n",
       "      <td>rest api  ,  docker  ,  postgresql  ,  web dev...</td>\n",
       "      <td>https://www.timesjobs.com/job-detail/python-de...</td>\n",
       "    </tr>\n",
       "    <tr>\n",
       "      <th>19</th>\n",
       "      <td>SYSTEMATIX INFOTECH PVT LTD</td>\n",
       "      <td>python  ,  security  ,  django  ,  html5  ,  j...</td>\n",
       "      <td>https://www.timesjobs.com/job-detail/python-de...</td>\n",
       "    </tr>\n",
       "    <tr>\n",
       "      <th>20</th>\n",
       "      <td>APPLYCUP HIRING SOLUTIONS LLP</td>\n",
       "      <td>python  ,  css  ,  html5  ,  javascript  ,  da...</td>\n",
       "      <td>https://www.timesjobs.com/job-detail/python-de...</td>\n",
       "    </tr>\n",
       "    <tr>\n",
       "      <th>21</th>\n",
       "      <td>KIWITECH</td>\n",
       "      <td>algorithms  ,  python  ,  css  ,  javascript  ...</td>\n",
       "      <td>https://www.timesjobs.com/job-detail/python-de...</td>\n",
       "    </tr>\n",
       "    <tr>\n",
       "      <th>22</th>\n",
       "      <td>APPLYCUP HIRING SOLUTIONS LLP</td>\n",
       "      <td>python  ,  django  ,  html5  ,  javascript</td>\n",
       "      <td>https://www.timesjobs.com/job-detail/python-de...</td>\n",
       "    </tr>\n",
       "    <tr>\n",
       "      <th>23</th>\n",
       "      <td>zenga tv</td>\n",
       "      <td>python  ,  django  ,  html5  ,  javascript</td>\n",
       "      <td>https://www.timesjobs.com/job-detail/python-de...</td>\n",
       "    </tr>\n",
       "    <tr>\n",
       "      <th>24</th>\n",
       "      <td>Fluper Limited</td>\n",
       "      <td>c#  ,  python  ,  virtual reality  ,  mobile  ...</td>\n",
       "      <td>https://www.timesjobs.com/job-detail/python-de...</td>\n",
       "    </tr>\n",
       "  </tbody>\n",
       "</table>\n",
       "</div>"
      ],
      "text/plain": [
       "                                              company  \\\n",
       "0   B.S.B International Career Pvt. Ltd.\\r\\n     (...   \n",
       "1   B.S.B International Career Pvt. Ltd.\\r\\n     (...   \n",
       "2                   R DOT VENTURE\\r\\n     (More Jobs)   \n",
       "3        Shaurya Global Solutions\\r\\n     (More Jobs)   \n",
       "4                    CANVAS27.com\\r\\n     (More Jobs)   \n",
       "5                    CANVAS27.com\\r\\n     (More Jobs)   \n",
       "6         CANVAS27.com Consultant\\r\\n     (More Jobs)   \n",
       "7                    CANVAS27.com\\r\\n     (More Jobs)   \n",
       "8                    CANVAS27.com\\r\\n     (More Jobs)   \n",
       "9         CANVAS27.com Consultant\\r\\n     (More Jobs)   \n",
       "10        CANVAS27.com Consultant\\r\\n     (More Jobs)   \n",
       "11        CANVAS27.com Consultant\\r\\n     (More Jobs)   \n",
       "12                  R DOT VENTURE\\r\\n     (More Jobs)   \n",
       "13                  R DOT VENTURE\\r\\n     (More Jobs)   \n",
       "14        CANVAS27.com Consultant\\r\\n     (More Jobs)   \n",
       "15        CANVAS27.com Consultant\\r\\n     (More Jobs)   \n",
       "16                                 TandA HR Solutions   \n",
       "17               creative thoughts informatics indore   \n",
       "18                       bigstep technologies pvt ltd   \n",
       "19                        SYSTEMATIX INFOTECH PVT LTD   \n",
       "20                      APPLYCUP HIRING SOLUTIONS LLP   \n",
       "21                                           KIWITECH   \n",
       "22                      APPLYCUP HIRING SOLUTIONS LLP   \n",
       "23                                           zenga tv   \n",
       "24                                     Fluper Limited   \n",
       "\n",
       "                                               skills  \\\n",
       "0                                    python developer   \n",
       "1                                          Programmer   \n",
       "2   Python  ,  django  ,  flask  ,  aws  ,  github...   \n",
       "3                        Core Python  ,   Frame Works   \n",
       "4   CSS  ,  Solr  ,  Github  ,  Django  ,  MySQL  ...   \n",
       "5   rest  ,  python  ,  open source  ,  django  , ...   \n",
       "6   coding  ,  python  ,  erp  ,  software develop...   \n",
       "7   CSS  ,  Solr  ,  Github  ,  Django  ,  MySQL  ...   \n",
       "8   rest  ,  python  ,  open source  ,  django  , ...   \n",
       "9   coding  ,  python  ,  erp  ,  software develop...   \n",
       "10  Python Developer  ,  Pandas  ,  numpy  ,  pyth...   \n",
       "11  Python Developer  ,  Pandas  ,  numpy  ,  pyth...   \n",
       "12  git  ,  Svn  ,  mysql  ,  html5  ,  css  ,  dj...   \n",
       "13  HTML5  ,  CSS  ,  MYSQL  ,  PostgreSQL  ,  Ang...   \n",
       "14  python  ,  nlp  ,  natural language processing...   \n",
       "15  python  ,  nlp  ,  natural language processing...   \n",
       "16  Django framework  ,  Python Developer  ,  core...   \n",
       "17  python  ,  django  ,  rest api  ,  html5  ,  j...   \n",
       "18  rest api  ,  docker  ,  postgresql  ,  web dev...   \n",
       "19  python  ,  security  ,  django  ,  html5  ,  j...   \n",
       "20  python  ,  css  ,  html5  ,  javascript  ,  da...   \n",
       "21  algorithms  ,  python  ,  css  ,  javascript  ...   \n",
       "22         python  ,  django  ,  html5  ,  javascript   \n",
       "23         python  ,  django  ,  html5  ,  javascript   \n",
       "24  c#  ,  python  ,  virtual reality  ,  mobile  ...   \n",
       "\n",
       "                                                 link  \n",
       "0   https://www.timesjobs.com/job-detail/python-de...  \n",
       "1   https://www.timesjobs.com/job-detail/python-de...  \n",
       "2   https://www.timesjobs.com/job-detail/python-de...  \n",
       "3   https://www.timesjobs.com/job-detail/python-de...  \n",
       "4   https://www.timesjobs.com/job-detail/python-de...  \n",
       "5   https://www.timesjobs.com/job-detail/python-de...  \n",
       "6   https://www.timesjobs.com/job-detail/python-de...  \n",
       "7   https://www.timesjobs.com/job-detail/python-de...  \n",
       "8   https://www.timesjobs.com/job-detail/python-de...  \n",
       "9   https://www.timesjobs.com/job-detail/python-de...  \n",
       "10  https://www.timesjobs.com/job-detail/python-de...  \n",
       "11  https://www.timesjobs.com/job-detail/python-de...  \n",
       "12  https://www.timesjobs.com/job-detail/senior-py...  \n",
       "13  https://www.timesjobs.com/job-detail/senior-py...  \n",
       "14  https://www.timesjobs.com/job-detail/python-de...  \n",
       "15  https://www.timesjobs.com/job-detail/python-de...  \n",
       "16  https://www.timesjobs.com/job-detail/python-de...  \n",
       "17  https://www.timesjobs.com/job-detail/python-de...  \n",
       "18  https://www.timesjobs.com/job-detail/python-de...  \n",
       "19  https://www.timesjobs.com/job-detail/python-de...  \n",
       "20  https://www.timesjobs.com/job-detail/python-de...  \n",
       "21  https://www.timesjobs.com/job-detail/python-de...  \n",
       "22  https://www.timesjobs.com/job-detail/python-de...  \n",
       "23  https://www.timesjobs.com/job-detail/python-de...  \n",
       "24  https://www.timesjobs.com/job-detail/python-de...  "
      ]
     },
     "execution_count": 26,
     "metadata": {},
     "output_type": "execute_result"
    }
   ],
   "source": [
    "df"
   ]
  },
  {
   "cell_type": "code",
   "execution_count": 27,
   "metadata": {},
   "outputs": [
    {
     "name": "stdout",
     "output_type": "stream",
     "text": [
      "Requirement already satisfied: pandas_profiling in /opt/anaconda3/lib/python3.7/site-packages (3.0.0)\n",
      "Requirement already satisfied: htmlmin>=0.1.12 in /opt/anaconda3/lib/python3.7/site-packages (from pandas_profiling) (0.1.12)\n",
      "Requirement already satisfied: missingno>=0.4.2 in /opt/anaconda3/lib/python3.7/site-packages (from pandas_profiling) (0.4.2)\n",
      "Requirement already satisfied: requests>=2.24.0 in /opt/anaconda3/lib/python3.7/site-packages (from pandas_profiling) (2.25.1)\n",
      "Requirement already satisfied: tqdm>=4.48.2 in /opt/anaconda3/lib/python3.7/site-packages (from pandas_profiling) (4.61.0)\n",
      "Requirement already satisfied: numpy>=1.16.0 in /opt/anaconda3/lib/python3.7/site-packages (from pandas_profiling) (1.18.1)\n",
      "Requirement already satisfied: seaborn>=0.10.1 in /opt/anaconda3/lib/python3.7/site-packages (from pandas_profiling) (0.11.1)\n",
      "Requirement already satisfied: visions[type_image_path]==0.7.1 in /opt/anaconda3/lib/python3.7/site-packages (from pandas_profiling) (0.7.1)\n",
      "Requirement already satisfied: matplotlib>=3.2.0 in /opt/anaconda3/lib/python3.7/site-packages (from pandas_profiling) (3.4.2)\n",
      "Requirement already satisfied: pydantic>=1.8.1 in /opt/anaconda3/lib/python3.7/site-packages (from pandas_profiling) (1.8.2)\n",
      "Requirement already satisfied: pandas!=1.0.0,!=1.0.1,!=1.0.2,!=1.1.0,>=0.25.3 in /opt/anaconda3/lib/python3.7/site-packages (from pandas_profiling) (1.2.4)\n",
      "Requirement already satisfied: jinja2>=2.11.1 in /opt/anaconda3/lib/python3.7/site-packages (from pandas_profiling) (2.11.1)\n",
      "Requirement already satisfied: PyYAML>=5.0.0 in /opt/anaconda3/lib/python3.7/site-packages (from pandas_profiling) (5.3)\n",
      "Requirement already satisfied: scipy>=1.4.1 in /opt/anaconda3/lib/python3.7/site-packages (from pandas_profiling) (1.4.1)\n",
      "Requirement already satisfied: tangled-up-in-unicode==0.1.0 in /opt/anaconda3/lib/python3.7/site-packages (from pandas_profiling) (0.1.0)\n",
      "Requirement already satisfied: joblib in /opt/anaconda3/lib/python3.7/site-packages (from pandas_profiling) (0.14.1)\n",
      "Requirement already satisfied: phik>=0.11.1 in /opt/anaconda3/lib/python3.7/site-packages (from pandas_profiling) (0.11.2)\n",
      "Requirement already satisfied: chardet<5,>=3.0.2 in /opt/anaconda3/lib/python3.7/site-packages (from requests>=2.24.0->pandas_profiling) (3.0.4)\n",
      "Requirement already satisfied: urllib3<1.27,>=1.21.1 in /opt/anaconda3/lib/python3.7/site-packages (from requests>=2.24.0->pandas_profiling) (1.25.8)\n",
      "Requirement already satisfied: idna<3,>=2.5 in /opt/anaconda3/lib/python3.7/site-packages (from requests>=2.24.0->pandas_profiling) (2.8)\n",
      "Requirement already satisfied: certifi>=2017.4.17 in /opt/anaconda3/lib/python3.7/site-packages (from requests>=2.24.0->pandas_profiling) (2019.11.28)\n",
      "Requirement already satisfied: multimethod==1.4 in /opt/anaconda3/lib/python3.7/site-packages (from visions[type_image_path]==0.7.1->pandas_profiling) (1.4)\n",
      "Requirement already satisfied: networkx>=2.4 in /opt/anaconda3/lib/python3.7/site-packages (from visions[type_image_path]==0.7.1->pandas_profiling) (2.4)\n",
      "Requirement already satisfied: bottleneck in /opt/anaconda3/lib/python3.7/site-packages (from visions[type_image_path]==0.7.1->pandas_profiling) (1.3.2)\n",
      "Requirement already satisfied: attrs>=19.3.0 in /opt/anaconda3/lib/python3.7/site-packages (from visions[type_image_path]==0.7.1->pandas_profiling) (19.3.0)\n",
      "Requirement already satisfied: Pillow; extra == \"type_image_path\" in /opt/anaconda3/lib/python3.7/site-packages (from visions[type_image_path]==0.7.1->pandas_profiling) (7.0.0)\n",
      "Requirement already satisfied: imagehash; extra == \"type_image_path\" in /opt/anaconda3/lib/python3.7/site-packages (from visions[type_image_path]==0.7.1->pandas_profiling) (4.2.0)\n",
      "Requirement already satisfied: pyparsing>=2.2.1 in /opt/anaconda3/lib/python3.7/site-packages (from matplotlib>=3.2.0->pandas_profiling) (2.4.6)\n",
      "Requirement already satisfied: cycler>=0.10 in /opt/anaconda3/lib/python3.7/site-packages (from matplotlib>=3.2.0->pandas_profiling) (0.10.0)\n",
      "Requirement already satisfied: kiwisolver>=1.0.1 in /opt/anaconda3/lib/python3.7/site-packages (from matplotlib>=3.2.0->pandas_profiling) (1.1.0)\n",
      "Requirement already satisfied: python-dateutil>=2.7 in /opt/anaconda3/lib/python3.7/site-packages (from matplotlib>=3.2.0->pandas_profiling) (2.8.1)\n",
      "Requirement already satisfied: typing-extensions>=3.7.4.3 in /opt/anaconda3/lib/python3.7/site-packages (from pydantic>=1.8.1->pandas_profiling) (3.10.0.0)\n",
      "Requirement already satisfied: pytz>=2017.3 in /opt/anaconda3/lib/python3.7/site-packages (from pandas!=1.0.0,!=1.0.1,!=1.0.2,!=1.1.0,>=0.25.3->pandas_profiling) (2019.3)\n",
      "Requirement already satisfied: MarkupSafe>=0.23 in /opt/anaconda3/lib/python3.7/site-packages (from jinja2>=2.11.1->pandas_profiling) (1.1.1)\n",
      "Requirement already satisfied: decorator>=4.3.0 in /opt/anaconda3/lib/python3.7/site-packages (from networkx>=2.4->visions[type_image_path]==0.7.1->pandas_profiling) (4.4.1)\n",
      "Requirement already satisfied: PyWavelets in /opt/anaconda3/lib/python3.7/site-packages (from imagehash; extra == \"type_image_path\"->visions[type_image_path]==0.7.1->pandas_profiling) (1.1.1)\n",
      "Requirement already satisfied: six in /opt/anaconda3/lib/python3.7/site-packages (from imagehash; extra == \"type_image_path\"->visions[type_image_path]==0.7.1->pandas_profiling) (1.14.0)\n",
      "Requirement already satisfied: setuptools in /opt/anaconda3/lib/python3.7/site-packages (from kiwisolver>=1.0.1->matplotlib>=3.2.0->pandas_profiling) (46.0.0.post20200309)\n"
     ]
    }
   ],
   "source": [
    "!pip install pandas_profiling"
   ]
  },
  {
   "cell_type": "code",
   "execution_count": 28,
   "metadata": {},
   "outputs": [],
   "source": [
    "from pandas_profiling import ProfileReport"
   ]
  },
  {
   "cell_type": "code",
   "execution_count": 29,
   "metadata": {},
   "outputs": [],
   "source": [
    "profile= ProfileReport(df)"
   ]
  },
  {
   "cell_type": "code",
   "execution_count": 30,
   "metadata": {},
   "outputs": [
    {
     "data": {
      "application/vnd.jupyter.widget-view+json": {
       "model_id": "52ff237f9058419abecd88cde89d96e9",
       "version_major": 2,
       "version_minor": 0
      },
      "text/plain": [
       "Summarize dataset:   0%|          | 0/16 [00:00<?, ?it/s]"
      ]
     },
     "metadata": {},
     "output_type": "display_data"
    },
    {
     "data": {
      "application/vnd.jupyter.widget-view+json": {
       "model_id": "959ef1c1d428429b876bacc5dfe2703a",
       "version_major": 2,
       "version_minor": 0
      },
      "text/plain": [
       "Generate report structure:   0%|          | 0/1 [00:00<?, ?it/s]"
      ]
     },
     "metadata": {},
     "output_type": "display_data"
    },
    {
     "data": {
      "application/vnd.jupyter.widget-view+json": {
       "model_id": "1bdb63958f864457b52e403ad2f5a327",
       "version_major": 2,
       "version_minor": 0
      },
      "text/plain": [
       "Render HTML:   0%|          | 0/1 [00:00<?, ?it/s]"
      ]
     },
     "metadata": {},
     "output_type": "display_data"
    },
    {
     "data": {
      "application/vnd.jupyter.widget-view+json": {
       "model_id": "23ec1a6be8124787bb7ffc7f659f38ef",
       "version_major": 2,
       "version_minor": 0
      },
      "text/plain": [
       "Export report to file:   0%|          | 0/1 [00:00<?, ?it/s]"
      ]
     },
     "metadata": {},
     "output_type": "display_data"
    }
   ],
   "source": [
    "profile.to_file(output_file='report.html')"
   ]
  },
  {
   "cell_type": "code",
   "execution_count": null,
   "metadata": {},
   "outputs": [],
   "source": []
  }
 ],
 "metadata": {
  "kernelspec": {
   "display_name": "Python 3",
   "language": "python",
   "name": "python3"
  },
  "language_info": {
   "codemirror_mode": {
    "name": "ipython",
    "version": 3
   },
   "file_extension": ".py",
   "mimetype": "text/x-python",
   "name": "python",
   "nbconvert_exporter": "python",
   "pygments_lexer": "ipython3",
   "version": "3.7.6"
  }
 },
 "nbformat": 4,
 "nbformat_minor": 4
}
